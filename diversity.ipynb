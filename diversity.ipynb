{
 "cells": [
  {
   "cell_type": "code",
   "execution_count": 42,
   "metadata": {},
   "outputs": [],
   "source": [
    "import os\n",
    "import networkx as nx\n",
    "import itertools\n",
    "import netlsd\n",
    "\n",
    "def load_hypergraph(path, model):\n",
    "    with open(path, 'r') as f:\n",
    "        hg = f.readlines()\n",
    "    if model == 'HyperDK00' or model == 'HyperDK11' or model == 'HyperPLR':\n",
    "        hg = [list(map(int, e.split())) for e in hg]\n",
    "    else:\n",
    "        hg = [list(map(int, e.split(','))) for e in hg]\n",
    "    return hg\n",
    "\n",
    "\n",
    "\n",
    "def hg_bipartite(hg):\n",
    "    G = nx.Graph()\n",
    "    # Add nodes for the original vertices (left set)\n",
    "    left_nodes = set(node for edge in hg for node in edge)\n",
    "    G.add_nodes_from(left_nodes, bipartite=0)\n",
    "    # Add nodes for the hyperedges (right set)\n",
    "    right_nodes = [f'e{i}' for i in range(len(hg))]\n",
    "    G.add_nodes_from(right_nodes, bipartite=1)\n",
    "    # Add edges between vertices and their corresponding hyperedges\n",
    "    for i, edge in enumerate(hg):\n",
    "        for node in edge:\n",
    "            G.add_edge(node, f'e{i}')\n",
    "\n",
    "    return G\n",
    "\n",
    "graph_path = './generate_graphs'"
   ]
  },
  {
   "cell_type": "code",
   "execution_count": null,
   "metadata": {},
   "outputs": [],
   "source": [
    "desnity_result = {}\n",
    "\n",
    "datasets = ['contact-high-school', 'contact-primary-school', 'email-Enron', 'email-Eu', 'NDC-classes']\n",
    "models = ['Hyperlap', 'Hyperlap+', 'HyperPLR']\n",
    "\n",
    "for dataset in datasets:\n",
    "    for model in models:\n",
    "        hgs_names = os.listdir(f'{graph_path}/{model}/{dataset}')\n",
    "        hgs = [load_hypergraph(f'{graph_path}/{model}/{dataset}/{name}', model) for name in hgs_names]\n",
    "        projections = [hg_bipartite(hg) for hg in hgs]\n",
    "\n",
    "        total = 0\n",
    "        for i in range(5):\n",
    "            for j in range(i + 1, 5):\n",
    "                desc1 = netlsd.heat(projections[i])\n",
    "                desc2 = netlsd.heat(projections[j])\n",
    "                distance = netlsd.compare(desc1, desc2)\n",
    "                total += distance\n",
    "        print(dataset, model, total)\n",
    "        desnity_result[(dataset, model)] = total\n"
   ]
  },
  {
   "cell_type": "code",
   "execution_count": null,
   "metadata": {},
   "outputs": [],
   "source": [
    "desnity_result_wave = {}\n",
    "for dataset in datasets:\n",
    "    for model in models:\n",
    "        hgs_names = os.listdir(f'{graph_path}/{model}/{dataset}')\n",
    "        hgs = [load_hypergraph(f'{graph_path}/{model}/{dataset}/{name}', model) for name in hgs_names]\n",
    "        projections = [hg_bipartite(hg) for hg in hgs]\n",
    "        total = 0\n",
    "        for i in range(5):\n",
    "            for j in range(i + 1, 5):\n",
    "                desc1 = netlsd.wave(projections[i])\n",
    "                desc2 = netlsd.wave(projections[j])\n",
    "                distance = netlsd.compare(desc1, desc2)\n",
    "                total += distance\n",
    "        print(dataset, model, total)\n",
    "        desnity_result_wave[(dataset, model)] = total\n"
   ]
  },
  {
   "cell_type": "code",
   "execution_count": null,
   "metadata": {},
   "outputs": [],
   "source": [
    "print('(NetLSD-heat) | ' + ' | '.join(datasets))\n",
    "print(' | '.join(['---'] * 6))\n",
    "for model in models:\n",
    "    print(model + ' | ' + ' | '.join([f'{desnity_result[(dataset, model)]:.3f}' for dataset in datasets]))"
   ]
  },
  {
   "cell_type": "code",
   "execution_count": null,
   "metadata": {},
   "outputs": [],
   "source": [
    "print('(NetLSD-wave) | ' + ' | '.join(datasets))\n",
    "print(' | '.join(['---'] * 6))\n",
    "for model in models:\n",
    "    print(model + ' | ' + ' | '.join([f'{desnity_result_wave[(dataset, model)]:.3f}' for dataset in datasets]))"
   ]
  }
 ],
 "metadata": {
  "kernelspec": {
   "display_name": "hygen",
   "language": "python",
   "name": "python3"
  },
  "language_info": {
   "codemirror_mode": {
    "name": "ipython",
    "version": 3
   },
   "file_extension": ".py",
   "mimetype": "text/x-python",
   "name": "python",
   "nbconvert_exporter": "python",
   "pygments_lexer": "ipython3",
   "version": "3.12.1"
  }
 },
 "nbformat": 4,
 "nbformat_minor": 2
}
