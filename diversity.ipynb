{
 "cells": [
  {
   "cell_type": "code",
   "execution_count": 28,
   "metadata": {},
   "outputs": [],
   "source": [
    "import os\n",
    "import networkx as nx\n",
    "import itertools\n",
    "import netlsd\n",
    "\n",
    "def load_hypergraph(path, model):\n",
    "    with open(path, 'r') as f:\n",
    "        hg = f.readlines()\n",
    "    if model == 'HyperDK00' or model == 'HyperDK11' or model == 'HyperPLR':\n",
    "        hg = [list(map(int, e.split())) for e in hg]\n",
    "    else:\n",
    "        hg = [list(map(int, e.split(','))) for e in hg]\n",
    "    return hg\n",
    "\n",
    "\n",
    "def hg_projection(hg):\n",
    "    # original hypergraph\n",
    "    num_edges = len(hg)\n",
    "    nodes = set()\n",
    "    node_degrees = {}\n",
    "    for edge in hg:\n",
    "        for node in edge:\n",
    "            nodes.add(node)\n",
    "            node_degrees[node] = node_degrees.get(node, 0) + 1\n",
    "\n",
    "    # projected graph\n",
    "    G = nx.Graph()\n",
    "    # Add all nodes from the hypergraph\n",
    "    nodes = set(node for edge in hg for node in edge)\n",
    "    G.add_nodes_from(nodes)\n",
    "    # For each hyperedge, create a clique\n",
    "    for edge in hg:\n",
    "        # Add edges between all pairs of nodes in the hyperedge\n",
    "        G.add_edges_from(itertools.combinations(edge, 2))\n",
    "\n",
    "    return G\n",
    "\n",
    "graph_path = './generate_graphs'\n",
    "model  = 'HyperPLR'\n",
    "# model = 'Hyperlap'\n",
    "dataset = 'NDC-classes'\n",
    "hgs_names = os.listdir(f'{graph_path}/{model}/{dataset}')\n",
    "\n",
    "hgs = [load_hypergraph(f'{graph_path}/{model}/{dataset}/{name}', model) for name in hgs_names]\n",
    "\n",
    "projections = [hg_projection(hg) for hg in hgs]\n",
    "\n",
    "\n"
   ]
  },
  {
   "cell_type": "code",
   "execution_count": 29,
   "metadata": {},
   "outputs": [
    {
     "name": "stdout",
     "output_type": "stream",
     "text": [
      "0.26206170893924297\n"
     ]
    }
   ],
   "source": [
    "total = 0\n",
    "for i in range(5):\n",
    "    for j in range(i + 1, 5):\n",
    "        desc1 = netlsd.heat(projections[i])\n",
    "        desc2 = netlsd.heat(projections[j])\n",
    "        distance = netlsd.compare(desc1, desc2)\n",
    "        total += distance\n",
    "print(distance)"
   ]
  }
 ],
 "metadata": {
  "kernelspec": {
   "display_name": "hygen",
   "language": "python",
   "name": "python3"
  },
  "language_info": {
   "codemirror_mode": {
    "name": "ipython",
    "version": 3
   },
   "file_extension": ".py",
   "mimetype": "text/x-python",
   "name": "python",
   "nbconvert_exporter": "python",
   "pygments_lexer": "ipython3",
   "version": "3.12.1"
  }
 },
 "nbformat": 4,
 "nbformat_minor": 2
}
